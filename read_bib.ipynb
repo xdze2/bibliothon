{
 "metadata": {
  "name": "",
  "signature": "sha256:353f1b9c0aee09d6c3e5d0787e1b79bd8aaf44359dcd20250e63e85ae439c9b4"
 },
 "nbformat": 3,
 "nbformat_minor": 0,
 "worksheets": [
  {
   "cells": [
    {
     "cell_type": "code",
     "collapsed": false,
     "input": [
      "import bibtexparser\n",
      "\n",
      "filename = 'bibi_chap01234_biblio_clean.bib'\n",
      "with open(filename) as bibtex_file:\n",
      "    bibtex_str = bibtex_file.read()\n",
      "\n",
      "bib_database = bibtexparser.loads(bibtex_str)\n",
      "#print(bib_database.entries)\n",
      "print len( bib_database.entries )"
     ],
     "language": "python",
     "metadata": {},
     "outputs": [
      {
       "output_type": "stream",
       "stream": "stdout",
       "text": [
        "150\n"
       ]
      }
     ],
     "prompt_number": 1
    },
    {
     "cell_type": "code",
     "collapsed": false,
     "input": [
      "type( bib_database )"
     ],
     "language": "python",
     "metadata": {},
     "outputs": [
      {
       "metadata": {},
       "output_type": "pyout",
       "prompt_number": 2,
       "text": [
        "bibtexparser.bibdatabase.BibDatabase"
       ]
      }
     ],
     "prompt_number": 2
    },
    {
     "cell_type": "markdown",
     "metadata": {},
     "source": [
      "## Compte le nombre de publication par ann\u00e9e"
     ]
    },
    {
     "cell_type": "code",
     "collapsed": false,
     "input": [
      "count_by_years = {}\n",
      "\n",
      "for article in bib_database.entries:\n",
      "    year = int( article['year'] )\n",
      "    count_by_years[year] = count_by_years.get( year, 0 ) + 1\n",
      "\n",
      "print len( count_by_years )\n",
      "print min( count_by_years ), max( count_by_years )"
     ],
     "language": "python",
     "metadata": {},
     "outputs": [
      {
       "output_type": "stream",
       "stream": "stdout",
       "text": [
        "39\n",
        "1930 2014\n"
       ]
      }
     ],
     "prompt_number": 3
    },
    {
     "cell_type": "code",
     "collapsed": false,
     "input": [
      "print count_by_years"
     ],
     "language": "python",
     "metadata": {},
     "outputs": [
      {
       "output_type": "stream",
       "stream": "stdout",
       "text": [
        "{1930: 1, 1936: 1, 1959: 2, 1966: 1, 1969: 1, 1971: 1, 1974: 1, 1975: 2, 1977: 1, 1979: 1, 1982: 1, 1985: 3, 1986: 3, 1988: 1, 1989: 1, 1991: 1, 1992: 1, 1993: 1, 1994: 3, 1995: 4, 1996: 7, 1997: 5, 1998: 6, 1999: 9, 2000: 10, 2001: 4, 2002: 6, 2003: 8, 2004: 7, 2005: 7, 2006: 9, 2007: 9, 2008: 8, 2009: 6, 2010: 7, 2011: 1, 2012: 4, 2013: 5, 2014: 1}\n"
       ]
      }
     ],
     "prompt_number": 4
    },
    {
     "cell_type": "code",
     "collapsed": false,
     "input": [
      "import matplotlib.pyplot as plt\n",
      "import numpy as np"
     ],
     "language": "python",
     "metadata": {},
     "outputs": [],
     "prompt_number": 5
    },
    {
     "cell_type": "code",
     "collapsed": false,
     "input": [
      "years = range( min( count_by_years ), max( count_by_years )+1 )\n",
      "number = [0]*len( years )\n",
      "\n",
      "for y, n in count_by_years.iteritems():\n",
      "    number[ y-min( count_by_years ) ] = n\n",
      "    \n",
      "#print years\n",
      "#print number"
     ],
     "language": "python",
     "metadata": {},
     "outputs": [],
     "prompt_number": 6
    },
    {
     "cell_type": "code",
     "collapsed": false,
     "input": [
      "plt.figure()\n",
      "plt.plot( years ,  number, 'r')\n",
      "plt.xlabel('years')\n",
      "plt.ylabel('number of publication')\n",
      "plt.show()"
     ],
     "language": "python",
     "metadata": {},
     "outputs": [],
     "prompt_number": 24
    },
    {
     "cell_type": "markdown",
     "metadata": {},
     "source": [
      "###\u00a0Gestion des auteurs"
     ]
    },
    {
     "cell_type": "code",
     "collapsed": false,
     "input": [
      "#voir\u00a0http://graham-kendall.com/blog/2012/08/parsing-bibtex-authors-how-i-do-it/"
     ],
     "language": "python",
     "metadata": {},
     "outputs": [],
     "prompt_number": 9
    },
    {
     "cell_type": "code",
     "collapsed": false,
     "input": [
      "for art in bib_database.entries:\n",
      "    bibtexparser.customization.author(  art  )"
     ],
     "language": "python",
     "metadata": {},
     "outputs": [],
     "prompt_number": 11
    },
    {
     "cell_type": "code",
     "collapsed": false,
     "input": [
      "##\u00a0Count by authors\n",
      "authors_count = {}\n",
      "for art in bib_database.entries:\n",
      "    for aut in art['author']:\n",
      "        name = aut.split(', ')\n",
      "        authors_count[ name[0] ] =  authors_count.get( name[0], 0 ) + 1"
     ],
     "language": "python",
     "metadata": {},
     "outputs": [],
     "prompt_number": 23
    },
    {
     "cell_type": "code",
     "collapsed": false,
     "input": [
      "print sorted( authors_count.iteritems(), key=lambda x:x[1], reverse=True )"
     ],
     "language": "python",
     "metadata": {},
     "outputs": [
      {
       "output_type": "stream",
       "stream": "stdout",
       "text": [
        "[(u'G{\\\\\"o}sele', 14), (u'Spearing', 10), (u'Rieutord', 9), (u'Turner', 9), (u'Moriceau', 8), (u'Radu', 6), (u'Fournel', 6), (u'Schmidt', 5), (u'Chen', 5), (u'Yu', 4), (u'Morales', 4), (u'Reiche', 4), (u'Scheerschmidt', 4), (u'Eymery', 3), (u'Aspar', 3), (u'de Boer', 3), (u'Raskin', 3), (u'Himcinschi', 3), (u'Conrad', 3), (u'Kubair', 3), (u'Shi', 3), (u'Petzold', 3), (u'Pardoen', 3), (u'Bertholet', 3), (u'Mahadevan', 3), (u'Sinha', 3), (u'Majidi', 3), (u'Ghatak', 2), (u'Thomas', 2), (u'Tan', 2), (u'Mastrangelo', 2), (u'Ventosa', 2), (u'Lasky', 2), (u'Jinesh', 2), (u'Gessner', 2), (u'Friedrich', 2), (u'Adams', 2), (u'Christman', 2), (u'Zahn', 2), (u'Penot', 2), (u'Barthelemy', 2), (u'White', 2), (u'Christiansen', 2), (u'Suni', 2), (u'Chabal', 2), (u'Landru', 2), (u'Landry', 2), (u'Broekaart', 2), (u'Frenken', 2), (u'Peressadko', 2), (u'Magnea', 2), (u'Martini', 2), (u'Wiemer', 2), (u'Buttard', 2), (u'Lagahe-Blanchard', 2), (u'Bagdahn', 2), (u'Hsu', 2), (u'Johnson', 2), (u'Spierings', 2), (u'Scholz', 2), (u'Rousseau', 2), (u'Michalske', 2), (u'Persson', 2), (u'Mack', 2), (u'Ciacchi', 2), (u'Vincent', 2), (u'Israelachvili', 2), (u'Mitani', 2), (u'Cole', 2), (u'Libralesso', 2), (u'Greenwood', 2), (u'Kenny', 2), (u'Fearing', 2), (u'Chaudhury', 2), (u'Fuller', 2), (u'Veeraraghavan', 2), (u'Bengtsson', 2), (u'Vedde', 2), (u'Tong', 2), (u'Castex', 2), (u'Haisma', 2), (u'Hiller', 2), (u'Letertre', 2), (u'Goetz', 1), (u'Kowal', 1), (u'Lindberg', 1), (u'Iker', 1), (u'Payne', 1), (u'Hedlund', 1), (u'Wekkeli', 1), (u'Vallin', 1), (u'Cappella', 1), (u'Bahukudumbi', 1), (u'Fontaniere', 1), (u'Rana', 1), (u'Tas', 1), (u'Qian', 1), (u'Hopcroft', 1), (u'Litton', 1), (u'Kinser', 1), (u'Maszara', 1), (u'Ciliberto', 1), (u'Papon', 1), (u'Zanghellini', 1), (u'Landau', 1), (u'Karcher', 1), (u'Baumann', 1), (u'Shapoval', 1), (u'Howes', 1), (u'others', 1), (u'Kustandi', 1), (u'Warner', 1), (u'Pl{\\\\\"o}{\\\\ss}l', 1), (u'Ayon', 1), (u'Tollabimazraehno', 1), (u'Lejeune', 1), (u'Zhukov', 1), (u'Lifshitz', 1), (u'Asay', 1), (u'Iler', 1), (u'Gui', 1), (u'Wyatt', 1), (u\"Feijo{\\\\'o}\", 1), (u'Sponberg', 1), (u'Dimroth', 1), (u'Hopfe', 1), (u'Moussy', 1), (u'Chuang', 1), (u'Signamarcheix', 1), (u'Amirfeiz', 1), (u'Mehra', 1), (u'Li', 1), (u'Lu', 1), (u'Dobrich', 1), (u'Steinkirchner', 1), (u'Crassous', 1), (u'Rouvi{\\\\`e}re', 1), (u'Williamson', 1), (u'Benoit', 1), (u'Krause', 1), (u'Gorb', 1), (u'Martin', 1), (u'Aiken', 1), (u'Milekhin', 1), (u'Ong', 1), (u'Attard', 1), (u'Ljungberg', 1), (u'Continni', 1), (u'Quinn', 1), (u'Winstel', 1), (u'M{\\\\\"a}kinen', 1), (u'Hosoi', 1), (u'Woinowsky-Krieger', 1), (u'Hannon', 1), (u'Stenzel', 1), (u'Wimplinger', 1), (u'Spadaccini', 1), (u'Jonsson', 1), (u'Giffard', 1), (u'Full', 1), (u'McKitterick', 1), (u'Burns', 1), (u'Kr\\\\\"{a}uter', 1), (u'Subrata', 1), (u'Rogers', 1), (u'Barenblatt', 1), (u'Cai', 1), (u\"Feidenhans'l\", 1), (u'Timpel', 1), (u'Charvet', 1), (u'Liau', 1), (u'Beutel', 1), (u'Rayleigh', 1), (u'Liao', 1), (u'Grierson', 1), (u'Zong', 1), (u'Whalen', 1), (u'Luo', 1), (u'Moreau', 1), (u'Holz', 1), (u'Heil', 1), (u'Grave', 1), (u'Aull', 1), (u'Muster', 1), (u'Dietler', 1), (u'Chaban', 1), (u'Topol', 1), (u'Blanc', 1), (u'Lamb', 1), (u'Waitz', 1), (u'Peattie', 1), (u'Samper', 1), (u'Nielsen', 1), (u'Feijoo', 1), (u\"Ay{\\\\'o}n\", 1), (u'Suresh', 1), (u'Hadjiconstantinou', 1), (u'Schachtner', 1), (u'Sprogis', 1), (u'Senz', 1), (u'Deckert', 1), (u'Gutjahr', 1), (u'Masteika', 1), (u'Derewenda', 1), (u'Stiffler', 1), (u'Clews', 1), (u'Peng', 1), (u'Vaillant', 1), (u'Atwater', 1), (u'Parameswaran', 1), (u'Gardeniers', 1), (u'Nie', 1), (u'Nix', 1), (u'Tibbits', 1), (u'Siefer', 1), (u'Henttinen', 1), (u'Bergh', 1), (u'Krauthammer', 1), (u'Toporov', 1), (u'Morral', 1), (u'Maugis', 1), (u'Rouviere', 1), (u'Gaudin', 1), (u'Dunn', 1), (u'Wordeman', 1), (u'Piccin', 1), (u'Prima', 1), (u'Kr{\\\\\"a}uter', 1), (u'Navarro', 1), (u'Lafond', 1), (u'Yonehara', 1), (u'Feldman', 1), (u'Tauzin', 1), (u'Gutmann', 1), (u'Zhuravlev', 1), (u'Novoselov', 1), (u'Stengl', 1), (u'Koester', 1), (u'Halsey', 1), (u'Hesser', 1), (u'Cruden', 1), (u'Levine', 1), (u'Shimbo', 1), (u'Skotheim', 1), (u'Oeser', 1), (u'Tanzawa', 1), (u'Song', 1), (u\"Br{\\\\'e}chet\", 1), (u'Yost', 1), (u'Hingerl', 1), (u'Luskin', 1), (u'Fiedeler', 1), (u'Hansen', 1), (u'Capello', 1), (u'Da Fonseca', 1), (u'Keast', 1), (u'B{\\\\\"o}rjesson', 1), (u'Knecht', 1), (u'Drazek', 1), (u'Plantevin', 1), (u'Guyon', 1), (u'Knoll', 1), (u'Purushothaman', 1), (u'Bett', 1), (u'Leroch', 1), (u'Bui', 1), (u'Benamara', 1), (u'Dragoi', 1), (u'Garofalini', 1), (u'LaTulipe', 1), (u'Yang', 1), (u'Epstein', 1), (u'Belsky', 1), (u'Barthel', 1), (u'Kaufman', 1), (u'Harrison', 1), (u'De Boer', 1), (u'Sitti', 1), (u'Suntharalingam', 1), (u'Leininger', 1), (u'Michelsen', 1), (u'Pl\\\\\"{o}{\\\\ss}l', 1), (u'Freund', 1), (u'Riou', 1), (u'Stahl', 1), (u'DelRio', 1), (u'Sacco', 1), (u'Grey', 1), (u'Bocquet', 1), (u'Reif', 1), (u'Bataillou', 1), (u'Chipot', 1), (u'Lai', 1), (u'Reni', 1), (u'Sakaguchi', 1), (u'Wanlass', 1), (u'Pinzelli', 1), (u'Dokmeci', 1), (u'Wan', 1), (u'Tanabe', 1), (u'Liang', 1), (u'Schwarzburg', 1), (u'Argentina', 1), (u'Hannappel', 1), (u'Sato', 1), (u'Sadaka', 1), (u'Guiot', 1), (u'Bruel', 1), (u'Hjort', 1), (u'Oliva', 1), (u'Muller', 1), (u'Kim', 1), (u'Oh', 1), (u'Wendland', 1), (u'Roberts', 1), (u'Schaible', 1), (u'Pasquariello', 1), (u'Ghyselen', 1), (u\"Cs{\\\\'a}nyi\", 1), (u'Reedy', 1), (u'London', 1), (u'Derjaguin', 1), (u'Salvetat', 1), (u'Sun', 1), (u'Centurioni', 1), (u'Tabor', 1), (u'Frank', 1), (u'Miki', 1), (u'Caviglia', 1), (u'Elwenspoek', 1), (u'Hamann', 1), (u'Kerrebrock', 1), (u'Abernathey', 1), (u'Plach', 1), (u'Grigorieva', 1), (u'Kendall', 1), (u'Beskok', 1), (u'Autumn', 1), (u'Roy', 1), (u'Meyyappan', 1), (u'Hong', 1), (u'Furlong', 1), (u'Young', 1), (u'Rasmussen', 1), (u'Posillico', 1), (u'Kirleis', 1), (u'Charlaix', 1), (u'{La Tulipe}', 1), (u'Alexe', 1), (u'Peles', 1), (u'Zhang', 1), (u'Timoshenko', 1), (u'Suo', 1), (u'Bower', 1), (u'Steen', 1), (u'Maboudian', 1), (u'Knapp', 1), (u'Daltorio', 1), (u'Howe', 1), (u'Cowache', 1), (u'Geim', 1), (u'Tempesta', 1), (u'Furukawa', 1), (u'Singh', 1), (u'Fukuda', 1), (u'Belote', 1), (u'Beneyton', 1), (u'Reznicek', 1), (u'Braitwaite', 1), (u'Thouless', 1), (u'Ventsel', 1), (u'Olbrechts', 1), (u'Hosoda', 1), (u'de Gennes', 1), (u'Neuzil', 1), (u'Weldon', 1), (u'Obreimoff', 1)]\n"
       ]
      }
     ],
     "prompt_number": 22
    },
    {
     "cell_type": "code",
     "collapsed": false,
     "input": [],
     "language": "python",
     "metadata": {},
     "outputs": []
    }
   ],
   "metadata": {}
  }
 ]
}